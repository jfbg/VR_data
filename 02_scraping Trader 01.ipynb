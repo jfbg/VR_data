{
 "cells": [
  {
   "cell_type": "markdown",
   "metadata": {},
   "source": [
    "## Scrape cars on sale on various trader websites\n",
    "\n",
    "The code below was meant to scrape all cars available on autotrader.com, and store them in a sql databases for further analyses. This particular trader seems to be actively fighting scraping of its offers by regularly modifying (hour basis it seems...) the html format and css files and class names. Which makes the current script useless. Will come back to this in a bit to figure a strategy.\n",
    "\n",
    "(Is it possible that the class names are randomly generated?)\n",
    "\n",
    "The next steps once this issue is resolved:\n",
    "* Load in list of zipcodes (data/zipcode.sqlite)\n",
    "* Run through all pages of the search (browser.find_element_by_class_name('pagination-button-next').click())\n",
    "* Run through all zipcodes."
   ]
  },
  {
   "cell_type": "code",
   "execution_count": null,
   "metadata": {
    "collapsed": true
   },
   "outputs": [],
   "source": [
    "from selenium import webdriver\n",
    "from selenium.webdriver.common.keys import Keys\n",
    "from selenium.webdriver.support.ui import WebDriverWait\n",
    "from selenium.webdriver.support import expected_conditions as EC\n",
    "from selenium.common.exceptions import TimeoutException\n",
    "from bs4 import BeautifulSoup\n",
    "import numpy as np\n",
    "import pandas as pd\n",
    "import sqlite3"
   ]
  },
  {
   "cell_type": "code",
   "execution_count": null,
   "metadata": {
    "collapsed": true
   },
   "outputs": [],
   "source": [
    "# Connect to dn\n",
    "conn = sqlite3.connect('data/sales.db')"
   ]
  },
  {
   "cell_type": "code",
   "execution_count": null,
   "metadata": {
    "collapsed": false
   },
   "outputs": [],
   "source": [
    "# %qtconsole\n",
    "\n",
    "trader = 'http://www.autotrader.com'\n",
    "zipcode = 10005\n",
    "browser = webdriver.Chrome()\n",
    "browser.get(trader)\n",
    "delay = 3 # seconds\n",
    "\n",
    "\n",
    "elem = browser.find_element_by_name('fyc-form-j_id_bb-j_id_bn-j_id_cp-zipcode')  # Find the search box\n",
    "elem.send_keys(Keys.ESCAPE)\n",
    "elem.send_keys(str(zipcode))\n",
    "elem.send_keys(Keys.RETURN)\n"
   ]
  },
  {
   "cell_type": "code",
   "execution_count": null,
   "metadata": {
    "collapsed": false
   },
   "outputs": [],
   "source": [
    "soup = BeautifulSoup(browser.page_source, \"lxml\")\n",
    "\n",
    "# Create DataFrame\n",
    "# columns = ['NewUsed', 'Year', 'Make', 'Type','Mileage','Price','ZipCode','Source']\n",
    "all_cars = pd.DataFrame() #columns=columns)\n",
    "\n",
    "#Make and Type\n",
    "brands = soup.find_all(\"span\", class_=\"atcui-truncate ymm\")\n",
    "#Price and Mileage\n",
    "details = soup.find_all(\"div\", class_=\"atcui-section atcui-clearfix   listing-content \")\n",
    "\n",
    "for cars, entry in zip(brands, details):\n",
    "    carsSTR = cars.text.split()\n",
    "    car_nu = carsSTR[0]\n",
    "    car_year = int(carsSTR[1])\n",
    "    car_make = carsSTR[2]\n",
    "    car_type = \" \".join(carsSTR[3:])\n",
    "    \n",
    "    try:\n",
    "        milesSTR = entry.find_all(\"span\", class_=\"mileage\")[0].text\n",
    "        car_miles = int(milesSTR.split()[0].replace(',',''))\n",
    "    except:\n",
    "        car_miles = 'Null'\n",
    "    \n",
    "    try:\n",
    "        priceSTR = entry.find_all(\"h4\", class_=\"primary-price\")[0].text\n",
    "        car_price = int(priceSTR.replace('$','').replace(',',''))\n",
    "    except:\n",
    "        car_price = 'Null'\n",
    "    \n",
    "    \n",
    "    print('{} {} {} {} {} {}'.format(car_year, car_nu, car_make, car_type, car_price, car_miles))\n",
    "    all_cars = all_cars.append(pd.DataFrame([[car_year, car_nu, car_make, \n",
    "                                              car_type, car_price, car_miles,\n",
    "                                              zipcode, trader]]),\n",
    "                              ignore_index = True)\n",
    "    \n",
    "all_cars.columns = ['new_used', 'year', 'make', 'type', 'mileage', 'price', 'zipcode', 'source']    \n",
    "# Update index\n",
    "index_max = conn.execute('SELECT MAX(car_id) FROM sales').fetchall()\n",
    "if index_max[0][0] is not None:\n",
    "    all_cars.index = all_cars.index + 1 + index_max[0][0]\n",
    "all_cars.to_sql('sales',conn,flavor='sqlite',if_exists='append',index_label='car_id')\n",
    "\n",
    "\n"
   ]
  },
  {
   "cell_type": "code",
   "execution_count": null,
   "metadata": {
    "collapsed": false
   },
   "outputs": [],
   "source": [
    "browser.find_element_by_class_name('pagination-button-next').click()\n"
   ]
  },
  {
   "cell_type": "code",
   "execution_count": null,
   "metadata": {
    "collapsed": true
   },
   "outputs": [],
   "source": [
    "browser.quit()"
   ]
  },
  {
   "cell_type": "code",
   "execution_count": null,
   "metadata": {
    "collapsed": true
   },
   "outputs": [],
   "source": [
    "conn.close()"
   ]
  }
 ],
 "metadata": {
  "kernelspec": {
   "display_name": "Python 2",
   "language": "python",
   "name": "python2"
  },
  "language_info": {
   "codemirror_mode": {
    "name": "ipython",
    "version": 2
   },
   "file_extension": ".py",
   "mimetype": "text/x-python",
   "name": "python",
   "nbconvert_exporter": "python",
   "pygments_lexer": "ipython2",
   "version": "2.7.11"
  }
 },
 "nbformat": 4,
 "nbformat_minor": 0
}
