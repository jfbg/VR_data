{
 "cells": [
  {
   "cell_type": "code",
   "execution_count": 18,
   "metadata": {
    "collapsed": false
   },
   "outputs": [],
   "source": [
    "from selenium import webdriver\n",
    "from selenium.webdriver.common.keys import Keys\n",
    "from bs4 import BeautifulSoup\n",
    "import numpy as np\n",
    "\n",
    "# %qtconsole\n",
    "\n",
    "browser = webdriver.Chrome()\n",
    "\n",
    "browser.get('http://www.autotrader.com')\n",
    "# assert 'Yahoo' in browser.title\n",
    "\n",
    "elem = browser.find_element_by_name('fyc-form-j_id_bb-j_id_bn-j_id_cp-zipcode')  # Find the search box\n",
    "elem.send_keys(Keys.ESCAPE)\n",
    "elem.send_keys('90210')\n",
    "elem.send_keys(Keys.RETURN)\n",
    "\n",
    "    "
   ]
  },
  {
   "cell_type": "code",
   "execution_count": 17,
   "metadata": {
    "collapsed": true
   },
   "outputs": [],
   "source": [
    "browser.quit()"
   ]
  },
  {
   "cell_type": "code",
   "execution_count": 23,
   "metadata": {
    "collapsed": false
   },
   "outputs": [
    {
     "name": "stdout",
     "output_type": "stream",
     "text": [
      "<class 'bs4.BeautifulSoup'>\n"
     ]
    }
   ],
   "source": [
    "soup = BeautifulSoup(browser.page_source, \"lxml\")\n",
    "# print type(soup)\n"
   ]
  },
  {
   "cell_type": "code",
   "execution_count": 82,
   "metadata": {
    "collapsed": false
   },
   "outputs": [
    {
     "name": "stdout",
     "output_type": "stream",
     "text": [
      "3206.0\n",
      "989.0\n",
      "6530.0\n",
      "6024.0\n",
      "nan\n",
      "nan\n",
      "nan\n",
      "nan\n",
      "nan\n",
      "nan\n",
      "4550.0\n",
      "500.0\n",
      "8540.0\n",
      "3651.0\n",
      "3002.0\n",
      "2126.0\n",
      "6927.0\n",
      "24572.0\n",
      "8600.0\n",
      "3395.0\n",
      "1048.0\n",
      "8064.0\n",
      "4476.0\n",
      "nan\n",
      "5133.0\n"
     ]
    }
   ],
   "source": [
    "# Brands\n",
    "# brands = soup.find_all(\"span\", class_=\"atcui-truncate ymm\")\n",
    "\n",
    "\n",
    "# Prices and Mileage\n",
    "details = soup.find_all(\"div\", class_=\"atcui-section atcui-clearfix   listing-content \")\n",
    "for entry in details:\n",
    "    try:\n",
    "        milesSTR = entry.find_all(\"span\", class_=\"mileage\")[0].text\n",
    "        miles = float(milesSTR.split()[0].replace(',',''))\n",
    "    except:\n",
    "        miles = np.NAN\n",
    "    print(miles)\n",
    "\n"
   ]
  },
  {
   "cell_type": "code",
   "execution_count": 19,
   "metadata": {
    "collapsed": true
   },
   "outputs": [],
   "source": [
    "%qtconsole"
   ]
  }
 ],
 "metadata": {
  "kernelspec": {
   "display_name": "Python 2",
   "language": "python",
   "name": "python2"
  },
  "language_info": {
   "codemirror_mode": {
    "name": "ipython",
    "version": 2
   },
   "file_extension": ".py",
   "mimetype": "text/x-python",
   "name": "python",
   "nbconvert_exporter": "python",
   "pygments_lexer": "ipython2",
   "version": "2.7.11"
  }
 },
 "nbformat": 4,
 "nbformat_minor": 0
}
