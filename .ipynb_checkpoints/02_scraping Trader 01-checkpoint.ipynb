{
 "cells": [
  {
   "cell_type": "markdown",
   "metadata": {},
   "source": [
    "## Scrape cars on sale on various trader websites\n",
    "\n",
    "The code below was meant to scrape all cars available on autotrader.com, and store them in a sql databases for further analyses. This particular trader seems to be actively fighting scraping of its offers by regularly modifying (hour basis it seems...) the html format and css files and class names. Which makes the current script useless. Will come back to this in a bit to figure a strategy.\n",
    "\n",
    "(Is it possible that the class names are randomly generated?)\n",
    "\n",
    "The next steps once this issue is resolved:\n",
    "* Load in list of zipcodes (data/zipcode.sqlite)\n",
    "* Run through all pages of the search (browser.find_element_by_class_name('pagination-button-next').click())\n",
    "* Run through all zipcodes."
   ]
  },
  {
   "cell_type": "code",
   "execution_count": null,
   "metadata": {
    "collapsed": true
   },
   "outputs": [],
   "source": [
    "from selenium import webdriver\n",
    "from selenium.webdriver.common.keys import Keys\n",
    "from selenium.webdriver.support.ui import WebDriverWait\n",
    "from selenium.webdriver.support import expected_conditions as EC\n",
    "from selenium.common.exceptions import TimeoutException\n",
    "from bs4 import BeautifulSoup\n",
    "import numpy as np\n",
    "import pandas as pd\n",
    "import sqlite3\n",
    "import time\n",
    "\n",
    "%load_ext sql\n",
    "%config SqlMagic.autopandas=True\n",
    "%matplotlib inline"
   ]
  },
  {
   "cell_type": "code",
   "execution_count": 93,
   "metadata": {
    "collapsed": false
   },
   "outputs": [],
   "source": [
    "# %qtconsole"
   ]
  },
  {
   "cell_type": "code",
   "execution_count": 90,
   "metadata": {
    "collapsed": false
   },
   "outputs": [
    {
     "data": {
      "text/plain": [
       "u'Connected: None@data/zipcode.sqlite'"
      ]
     },
     "execution_count": 90,
     "metadata": {},
     "output_type": "execute_result"
    }
   ],
   "source": [
    "# Connect to dbs\n",
    "conn = sqlite3.connect('data/sales.db')\n",
    "%sql sqlite:///data/zipcode.sqlite"
   ]
  },
  {
   "cell_type": "code",
   "execution_count": 91,
   "metadata": {
    "collapsed": false
   },
   "outputs": [
    {
     "name": "stdout",
     "output_type": "stream",
     "text": [
      "Done.\n"
     ]
    }
   ],
   "source": [
    "#Get list of zipcodes, only do TX for now (LIMIT 10 because super slow... \n",
    "zips = %sql select ZipCode from zipcode where St = 'TX' limit 10"
   ]
  },
  {
   "cell_type": "code",
   "execution_count": 3,
   "metadata": {
    "collapsed": false
   },
   "outputs": [],
   "source": [
    "trader = 'http://www.autotrader.com'\n",
    "\n"
   ]
  },
  {
   "cell_type": "code",
   "execution_count": 84,
   "metadata": {
    "collapsed": false
   },
   "outputs": [
    {
     "name": "stdout",
     "output_type": "stream",
     "text": [
      "2013 Used BMW 335i 35000 18636\n",
      "2012 Certified Toyota Tundra 35000 42567\n",
      "2014 Used BMW 528i xDrive 34999 31098\n",
      "2013 Used BMW X5 34998 43850\n",
      "2012 Used Toyota Tundra 34998 33903\n",
      "2013 Used BMW 750i xDrive 34998 52068\n",
      "2012 Used BMW 650i 34998 51707\n",
      "2013 Used BMW X5 34998 33722\n",
      "2010 Used Mercedes-Benz CL550 34998 38041\n",
      "2015 Used RAM 1500 34998 28609\n",
      "2014 Used GMC Sierra C/K1500 34998 43592\n",
      "2012 Used Lincoln Navigator 34998 27385\n",
      "2013 Used BMW 750i xDrive 34998 57703\n",
      "2014 Used GMC Sierra C/K1500 34998 45857\n",
      "2016 Used Jeep Wrangler 34998 13488\n",
      "2013 Used BMW X6 34998 48464\n",
      "2014 Used BMW 428i xDrive 34998 19407\n",
      "2015 Used Jeep Wrangler 34998 15458\n",
      "2015 Used Ford F150 34998 28015\n",
      "2013 Used Mercedes-Benz GL450 34998 54196\n",
      "2015 Used BMW X4 34996 45896\n",
      "2012 Used Mercedes-Benz GL450 34996 47522\n",
      "2014 Used Mercedes-Benz ML350 34996 47645\n",
      "2015 Used Audi A6 34996 22224\n",
      "2013 Used Mercedes-Benz CLS550 34996 55147\n"
     ]
    }
   ],
   "source": [
    "for z in zips.ZipCode[0]:\n",
    "    \n",
    "print(z)\n",
    "    \n",
    "browser = webdriver.Chrome()\n",
    "browser.get(trader)\n",
    "\n",
    "elem = browser.find_element_by_name('fyc-form-j_id_bb-j_id_bn-j_id_cp-zipcode')  # Find the search box\n",
    "elem.send_keys(Keys.ESCAPE)\n",
    "elem.send_keys(str(z))\n",
    "elem.send_keys(Keys.RETURN)\n",
    "time.sleep(20)    \n",
    "\n",
    "not_end = 0\n",
    "while not_end < 4:\n",
    "    soup = BeautifulSoup(browser.page_source, \"lxml\")\n",
    "\n",
    "    # Create DataFrame\n",
    "    # columns = ['NewUsed', 'Year', 'Make', 'Type','Mileage','Price','ZipCode','Source']\n",
    "    all_cars = pd.DataFrame() #columns=columns)\n",
    "\n",
    "    #Make and Type\n",
    "    brands = soup.find_all(\"span\", class_=\"atcui-truncate ymm\")\n",
    "    #Price and Mileage\n",
    "    details = soup.find_all(\"div\", class_=\"atcui-section atcui-clearfix   listing-content \")\n",
    "\n",
    "    for cars, entry in zip(brands, details):\n",
    "        carsSTR = cars.text.split()\n",
    "        car_nu = carsSTR[0]\n",
    "        car_year = int(carsSTR[1])\n",
    "        car_make = carsSTR[2]\n",
    "        car_type = \" \".join(carsSTR[3:])\n",
    "\n",
    "        try:\n",
    "            milesSTR = entry.find_all(\"span\", class_=\"mileage\")[0].text\n",
    "            car_miles = int(milesSTR.split()[0].replace(',',''))\n",
    "        except:\n",
    "            car_miles = 'Null'\n",
    "\n",
    "        try:\n",
    "            priceSTR = entry.find_all(\"h4\", class_=\"primary-price\")[0].text\n",
    "            car_price = int(priceSTR.replace('$','').replace(',',''))\n",
    "        except:\n",
    "            car_price = 'Null'\n",
    "\n",
    "\n",
    "#         print('{} {} {} {} {} {}'.format(car_year, car_nu, car_make, car_type, car_price, car_miles))\n",
    "        all_cars = all_cars.append(pd.DataFrame([[car_year, car_nu, car_make, \n",
    "                                                  car_type, car_miles, car_price, \n",
    "                                                  zipcode, trader]]),\n",
    "                                  ignore_index = True)\n",
    "\n",
    "    all_cars.columns = ['new_used', 'year', 'make', 'type', 'mileage', 'price', 'zipcode', 'source']    \n",
    "    # Update index\n",
    "    index_max = conn.execute('SELECT MAX(car_id) FROM sales').fetchall()\n",
    "    if index_max[0][0] is not None:\n",
    "        all_cars.index = all_cars.index + 1 + index_max[0][0]\n",
    "    all_cars.to_sql('sales',conn,flavor='sqlite',if_exists='append',index_label='car_id')\n",
    "\n",
    "    next_counter = 0\n",
    "    while next_counter < 4\n",
    "        try: \n",
    "            browser.find_element_by_class_name('pagination-button-next').click()\n",
    "            next_counter = 4\n",
    "        except:\n",
    "            if next_counter == 3:\n",
    "                not_end = 1\n",
    "            time.sleep(5)\n",
    "            next_counter = next_counter + 1\n",
    "    \n",
    "browser.quit()\n",
    "\n",
    "\n",
    "\n",
    "\n"
   ]
  },
  {
   "cell_type": "code",
   "execution_count": 86,
   "metadata": {
    "collapsed": false
   },
   "outputs": [
    {
     "ename": "NoSuchElementException",
     "evalue": "Message: no such element: Unable to locate element: {\"method\":\"class name\",\"selector\":\"pagination-button-next\"}\n  (Session info: chrome=53.0.2785.101)\n  (Driver info: chromedriver=2.21.371459 (36d3d07f660ff2bc1bf28a75d1cdabed0983e7c4),platform=Mac OS X 10.11.6 x86_64)\n",
     "output_type": "error",
     "traceback": [
      "\u001b[0;31m---------------------------------------------------------------------------\u001b[0m",
      "\u001b[0;31mNoSuchElementException\u001b[0m                    Traceback (most recent call last)",
      "\u001b[0;32m<ipython-input-86-1c0bc8ccc197>\u001b[0m in \u001b[0;36m<module>\u001b[0;34m()\u001b[0m\n\u001b[0;32m----> 1\u001b[0;31m \u001b[0mbrowser\u001b[0m\u001b[0;34m.\u001b[0m\u001b[0mfind_element_by_class_name\u001b[0m\u001b[0;34m(\u001b[0m\u001b[0;34m'pagination-button-next'\u001b[0m\u001b[0;34m)\u001b[0m\u001b[0;34m.\u001b[0m\u001b[0mclick\u001b[0m\u001b[0;34m(\u001b[0m\u001b[0;34m)\u001b[0m\u001b[0;34m\u001b[0m\u001b[0m\n\u001b[0m",
      "\u001b[0;32m/Users/JFBG/.virtualenvs/VR_data/lib/python2.7/site-packages/selenium/webdriver/remote/webdriver.pyc\u001b[0m in \u001b[0;36mfind_element_by_class_name\u001b[0;34m(self, name)\u001b[0m\n\u001b[1;32m    411\u001b[0m             \u001b[0mdriver\u001b[0m\u001b[0;34m.\u001b[0m\u001b[0mfind_element_by_class_name\u001b[0m\u001b[0;34m(\u001b[0m\u001b[0;34m'foo'\u001b[0m\u001b[0;34m)\u001b[0m\u001b[0;34m\u001b[0m\u001b[0m\n\u001b[1;32m    412\u001b[0m         \"\"\"\n\u001b[0;32m--> 413\u001b[0;31m         \u001b[0;32mreturn\u001b[0m \u001b[0mself\u001b[0m\u001b[0;34m.\u001b[0m\u001b[0mfind_element\u001b[0m\u001b[0;34m(\u001b[0m\u001b[0mby\u001b[0m\u001b[0;34m=\u001b[0m\u001b[0mBy\u001b[0m\u001b[0;34m.\u001b[0m\u001b[0mCLASS_NAME\u001b[0m\u001b[0;34m,\u001b[0m \u001b[0mvalue\u001b[0m\u001b[0;34m=\u001b[0m\u001b[0mname\u001b[0m\u001b[0;34m)\u001b[0m\u001b[0;34m\u001b[0m\u001b[0m\n\u001b[0m\u001b[1;32m    414\u001b[0m \u001b[0;34m\u001b[0m\u001b[0m\n\u001b[1;32m    415\u001b[0m     \u001b[0;32mdef\u001b[0m \u001b[0mfind_elements_by_class_name\u001b[0m\u001b[0;34m(\u001b[0m\u001b[0mself\u001b[0m\u001b[0;34m,\u001b[0m \u001b[0mname\u001b[0m\u001b[0;34m)\u001b[0m\u001b[0;34m:\u001b[0m\u001b[0;34m\u001b[0m\u001b[0m\n",
      "\u001b[0;32m/Users/JFBG/.virtualenvs/VR_data/lib/python2.7/site-packages/selenium/webdriver/remote/webdriver.pyc\u001b[0m in \u001b[0;36mfind_element\u001b[0;34m(self, by, value)\u001b[0m\n\u001b[1;32m    750\u001b[0m         return self.execute(Command.FIND_ELEMENT, {\n\u001b[1;32m    751\u001b[0m             \u001b[0;34m'using'\u001b[0m\u001b[0;34m:\u001b[0m \u001b[0mby\u001b[0m\u001b[0;34m,\u001b[0m\u001b[0;34m\u001b[0m\u001b[0m\n\u001b[0;32m--> 752\u001b[0;31m             'value': value})['value']\n\u001b[0m\u001b[1;32m    753\u001b[0m \u001b[0;34m\u001b[0m\u001b[0m\n\u001b[1;32m    754\u001b[0m     \u001b[0;32mdef\u001b[0m \u001b[0mfind_elements\u001b[0m\u001b[0;34m(\u001b[0m\u001b[0mself\u001b[0m\u001b[0;34m,\u001b[0m \u001b[0mby\u001b[0m\u001b[0;34m=\u001b[0m\u001b[0mBy\u001b[0m\u001b[0;34m.\u001b[0m\u001b[0mID\u001b[0m\u001b[0;34m,\u001b[0m \u001b[0mvalue\u001b[0m\u001b[0;34m=\u001b[0m\u001b[0mNone\u001b[0m\u001b[0;34m)\u001b[0m\u001b[0;34m:\u001b[0m\u001b[0;34m\u001b[0m\u001b[0m\n",
      "\u001b[0;32m/Users/JFBG/.virtualenvs/VR_data/lib/python2.7/site-packages/selenium/webdriver/remote/webdriver.pyc\u001b[0m in \u001b[0;36mexecute\u001b[0;34m(self, driver_command, params)\u001b[0m\n\u001b[1;32m    234\u001b[0m         \u001b[0mresponse\u001b[0m \u001b[0;34m=\u001b[0m \u001b[0mself\u001b[0m\u001b[0;34m.\u001b[0m\u001b[0mcommand_executor\u001b[0m\u001b[0;34m.\u001b[0m\u001b[0mexecute\u001b[0m\u001b[0;34m(\u001b[0m\u001b[0mdriver_command\u001b[0m\u001b[0;34m,\u001b[0m \u001b[0mparams\u001b[0m\u001b[0;34m)\u001b[0m\u001b[0;34m\u001b[0m\u001b[0m\n\u001b[1;32m    235\u001b[0m         \u001b[0;32mif\u001b[0m \u001b[0mresponse\u001b[0m\u001b[0;34m:\u001b[0m\u001b[0;34m\u001b[0m\u001b[0m\n\u001b[0;32m--> 236\u001b[0;31m             \u001b[0mself\u001b[0m\u001b[0;34m.\u001b[0m\u001b[0merror_handler\u001b[0m\u001b[0;34m.\u001b[0m\u001b[0mcheck_response\u001b[0m\u001b[0;34m(\u001b[0m\u001b[0mresponse\u001b[0m\u001b[0;34m)\u001b[0m\u001b[0;34m\u001b[0m\u001b[0m\n\u001b[0m\u001b[1;32m    237\u001b[0m             response['value'] = self._unwrap_value(\n\u001b[1;32m    238\u001b[0m                 response.get('value', None))\n",
      "\u001b[0;32m/Users/JFBG/.virtualenvs/VR_data/lib/python2.7/site-packages/selenium/webdriver/remote/errorhandler.pyc\u001b[0m in \u001b[0;36mcheck_response\u001b[0;34m(self, response)\u001b[0m\n\u001b[1;32m    190\u001b[0m         \u001b[0;32melif\u001b[0m \u001b[0mexception_class\u001b[0m \u001b[0;34m==\u001b[0m \u001b[0mUnexpectedAlertPresentException\u001b[0m \u001b[0;32mand\u001b[0m \u001b[0;34m'alert'\u001b[0m \u001b[0;32min\u001b[0m \u001b[0mvalue\u001b[0m\u001b[0;34m:\u001b[0m\u001b[0;34m\u001b[0m\u001b[0m\n\u001b[1;32m    191\u001b[0m             \u001b[0;32mraise\u001b[0m \u001b[0mexception_class\u001b[0m\u001b[0;34m(\u001b[0m\u001b[0mmessage\u001b[0m\u001b[0;34m,\u001b[0m \u001b[0mscreen\u001b[0m\u001b[0;34m,\u001b[0m \u001b[0mstacktrace\u001b[0m\u001b[0;34m,\u001b[0m \u001b[0mvalue\u001b[0m\u001b[0;34m[\u001b[0m\u001b[0;34m'alert'\u001b[0m\u001b[0;34m]\u001b[0m\u001b[0;34m.\u001b[0m\u001b[0mget\u001b[0m\u001b[0;34m(\u001b[0m\u001b[0;34m'text'\u001b[0m\u001b[0;34m)\u001b[0m\u001b[0;34m)\u001b[0m\u001b[0;34m\u001b[0m\u001b[0m\n\u001b[0;32m--> 192\u001b[0;31m         \u001b[0;32mraise\u001b[0m \u001b[0mexception_class\u001b[0m\u001b[0;34m(\u001b[0m\u001b[0mmessage\u001b[0m\u001b[0;34m,\u001b[0m \u001b[0mscreen\u001b[0m\u001b[0;34m,\u001b[0m \u001b[0mstacktrace\u001b[0m\u001b[0;34m)\u001b[0m\u001b[0;34m\u001b[0m\u001b[0m\n\u001b[0m\u001b[1;32m    193\u001b[0m \u001b[0;34m\u001b[0m\u001b[0m\n\u001b[1;32m    194\u001b[0m     \u001b[0;32mdef\u001b[0m \u001b[0m_value_or_default\u001b[0m\u001b[0;34m(\u001b[0m\u001b[0mself\u001b[0m\u001b[0;34m,\u001b[0m \u001b[0mobj\u001b[0m\u001b[0;34m,\u001b[0m \u001b[0mkey\u001b[0m\u001b[0;34m,\u001b[0m \u001b[0mdefault\u001b[0m\u001b[0;34m)\u001b[0m\u001b[0;34m:\u001b[0m\u001b[0;34m\u001b[0m\u001b[0m\n",
      "\u001b[0;31mNoSuchElementException\u001b[0m: Message: no such element: Unable to locate element: {\"method\":\"class name\",\"selector\":\"pagination-button-next\"}\n  (Session info: chrome=53.0.2785.101)\n  (Driver info: chromedriver=2.21.371459 (36d3d07f660ff2bc1bf28a75d1cdabed0983e7c4),platform=Mac OS X 10.11.6 x86_64)\n"
     ]
    }
   ],
   "source": []
  },
  {
   "cell_type": "code",
   "execution_count": 98,
   "metadata": {
    "collapsed": true
   },
   "outputs": [],
   "source": []
  },
  {
   "cell_type": "code",
   "execution_count": 99,
   "metadata": {
    "collapsed": true
   },
   "outputs": [],
   "source": [
    "conn.close()"
   ]
  }
 ],
 "metadata": {
  "kernelspec": {
   "display_name": "Python 2",
   "language": "python",
   "name": "python2"
  },
  "language_info": {
   "codemirror_mode": {
    "name": "ipython",
    "version": 2
   },
   "file_extension": ".py",
   "mimetype": "text/x-python",
   "name": "python",
   "nbconvert_exporter": "python",
   "pygments_lexer": "ipython2",
   "version": "2.7.11"
  }
 },
 "nbformat": 4,
 "nbformat_minor": 0
}
