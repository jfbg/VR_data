{
 "cells": [
  {
   "cell_type": "code",
   "execution_count": 16,
   "metadata": {
    "collapsed": true
   },
   "outputs": [],
   "source": [
    "import numpy as np\n",
    "import pandas as pd\n",
    "import plotly.plotly as py\n",
    "import plotly.graph_objs as go"
   ]
  },
  {
   "cell_type": "code",
   "execution_count": 8,
   "metadata": {
    "collapsed": false
   },
   "outputs": [
    {
     "name": "stdout",
     "output_type": "stream",
     "text": [
      "The sql extension is already loaded. To reload it, use:\n",
      "  %reload_ext sql\n"
     ]
    }
   ],
   "source": [
    "%load_ext sql\n",
    "%config SqlMagic.autopandas=True\n",
    "%matplotlib inline\n",
    "\n",
    "# %qtconsole"
   ]
  },
  {
   "cell_type": "code",
   "execution_count": 6,
   "metadata": {
    "collapsed": false
   },
   "outputs": [
    {
     "data": {
      "text/plain": [
       "u'Connected: None@data/sales.db'"
      ]
     },
     "execution_count": 6,
     "metadata": {},
     "output_type": "execute_result"
    }
   ],
   "source": [
    "%sql sqlite:///data/sales.db"
   ]
  },
  {
   "cell_type": "markdown",
   "metadata": {},
   "source": [
    "### Some usefule SQL queries\n",
    "\n",
    "_Note that sqlite3 is quite limited as a sql db. e.g. it doesn't support variables and a lot of functions (mean, std..) offered by other db (MySQL, postgreSQL, etc.). So queries below are simple, or I use python to access more complex information.\n",
    "\n",
    "#### Get unique entries for all dates (either new, or sold cars)\n",
    "```SQL\n",
    "select count(line_id) ss, min(line_id), * \n",
    "from salesVR \n",
    "group by year, make, model, trim, mileage \n",
    "having ss = 1 \n",
    "order by make, model, trim, year;\n",
    "```\n",
    "\n",
    "#### Get unique entries for all dates (either new, or sold cars)\n",
    "```SQL\n",
    "select date, count(ss) from\n",
    "(select count(line_id) ss, min(line_id), * \n",
    "from salesVR \n",
    "group by year, make, model, trim, mileage \n",
    "having ss = 1) A\n",
    "group by date\n",
    ";\n",
    "```\n",
    "        * 2016-09-12  260 (cars sold in 3 days..?)\n",
    "        * 2016-09-15  250 (new cars added to catalog in 3 days?)\n",
    "   "
   ]
  },
  {
   "cell_type": "markdown",
   "metadata": {},
   "source": [
    "## See what cars have been sold and added each days\n",
    "\n",
    "I'm assuming, perhaps simplistically, that cars taken of of the catalog have been sold. "
   ]
  },
  {
   "cell_type": "markdown",
   "metadata": {},
   "source": [
    "## Plot make average cost \n",
    "First get list of individual cars, then average per make. Most cars will show up every day because they haven't been sold. The price for some of these cars are changing so I first take the average over the 4 days for each cars.\n",
    "\n",
    "To find unique cars I group by year, make, model, trim, mileage. This assumes that mileage doesn't change but that price can. \n",
    "\n",
    "```SQL\n",
    "select make, count(make) num_cars, sum(price)/count(price) ave_price, \n",
    "        max(price) max_price, min(price) min_price\n",
    "from \n",
    "(select make, sum(price)/count(price) price from salesVR\n",
    "group by year, make, model, trim, mileage) DAY\n",
    "group by make\n",
    "order by ave_price;\n",
    "```"
   ]
  },
  {
   "cell_type": "code",
   "execution_count": 17,
   "metadata": {
    "collapsed": false
   },
   "outputs": [
    {
     "name": "stdout",
     "output_type": "stream",
     "text": [
      "Done.\n"
     ]
    },
    {
     "data": {
      "text/html": [
       "<iframe id=\"igraph\" scrolling=\"no\" style=\"border:none;\" seamless=\"seamless\" src=\"https://plot.ly/~jfbg/106.embed\" height=\"525px\" width=\"100%\"></iframe>"
      ],
      "text/plain": [
       "<plotly.tools.PlotlyDisplay object>"
      ]
     },
     "execution_count": 17,
     "metadata": {},
     "output_type": "execute_result"
    }
   ],
   "source": [
    "make_ave_price = %sql select make, count(make) num_cars, sum(price)/count(price) ave_price from (select make, sum(price)/count(price) price from salesVR group by year, make, model, trim, mileage) DAY group by make order by ave_price;\n",
    "\n",
    "data = [go.Bar(\n",
    "            x=make_ave_price[\"make\"],\n",
    "            y=make_ave_price[\"ave_price\"]\n",
    "    )]\n",
    "\n",
    "py.iplot(data, filename='basic-bar')"
   ]
  },
  {
   "cell_type": "code",
   "execution_count": 13,
   "metadata": {
    "collapsed": true
   },
   "outputs": [],
   "source": []
  }
 ],
 "metadata": {
  "kernelspec": {
   "display_name": "Python 2",
   "language": "python",
   "name": "python2"
  },
  "language_info": {
   "codemirror_mode": {
    "name": "ipython",
    "version": 2
   },
   "file_extension": ".py",
   "mimetype": "text/x-python",
   "name": "python",
   "nbconvert_exporter": "python",
   "pygments_lexer": "ipython2",
   "version": "2.7.11"
  }
 },
 "nbformat": 4,
 "nbformat_minor": 0
}
