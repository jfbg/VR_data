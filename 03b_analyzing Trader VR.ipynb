{
 "cells": [
  {
   "cell_type": "markdown",
   "metadata": {},
   "source": [
    "## Just playing around with the data\n",
    "\n",
    "Lesson learned: \n",
    "* sqlite3 is super limited. If I were to redo this I'd save it all in a MySQL or pSQL database tp have access to more core functionalities.\n",
    "* plotly is nice for graphs, however it is hard to show notebooks that uses it in github. One must use nbviewer."
   ]
  },
  {
   "cell_type": "code",
   "execution_count": 33,
   "metadata": {
    "collapsed": true
   },
   "outputs": [],
   "source": [
    "import numpy as np\n",
    "import pandas as pd\n",
    "import plotly.plotly as py\n",
    "import plotly.graph_objs as go\n",
    "from plotly.tools import FigureFactory as FF \n",
    "from IPython.display import display, display_pretty, Javascript, HTML\n",
    "import qgrid \n",
    "qgrid.nbinstall(overwrite=True)"
   ]
  },
  {
   "cell_type": "code",
   "execution_count": 8,
   "metadata": {
    "collapsed": false
   },
   "outputs": [
    {
     "name": "stdout",
     "output_type": "stream",
     "text": [
      "The sql extension is already loaded. To reload it, use:\n",
      "  %reload_ext sql\n"
     ]
    }
   ],
   "source": [
    "%load_ext sql\n",
    "%config SqlMagic.autopandas=True\n",
    "%matplotlib inline\n",
    "\n",
    "# %qtconsole"
   ]
  },
  {
   "cell_type": "code",
   "execution_count": 6,
   "metadata": {
    "collapsed": false
   },
   "outputs": [
    {
     "data": {
      "text/plain": [
       "u'Connected: None@data/sales.db'"
      ]
     },
     "execution_count": 6,
     "metadata": {},
     "output_type": "execute_result"
    }
   ],
   "source": [
    "%sql sqlite:///data/sales.db"
   ]
  },
  {
   "cell_type": "markdown",
   "metadata": {},
   "source": [
    "### Some usefule SQL queries\n",
    "\n",
    "_Note that sqlite3 is quite limited as a sql db. e.g. it doesn't support variables and a lot of functions (mean, std..) offered by other db (MySQL, postgreSQL, etc.). So queries below are simple, or I use python to access more complex information.\n",
    "\n",
    "#### Get unique entries for all dates (either new, or sold cars)\n",
    "```SQL\n",
    "select count(line_id) ss, min(line_id), * \n",
    "from salesVR \n",
    "group by year, make, model, trim, mileage \n",
    "having ss = 1 \n",
    "order by make, model, trim, year;\n",
    "```\n",
    "\n",
    "#### Get unique entries for all dates (either new, or sold cars)\n",
    "```SQL\n",
    "select date, count(ss) from\n",
    "(select count(line_id) ss, min(line_id), * \n",
    "from salesVR \n",
    "group by year, make, model, trim, mileage \n",
    "having ss = 1) A\n",
    "group by date\n",
    ";\n",
    "```\n",
    "        * 2016-09-12  260 (cars sold in 3 days..?)\n",
    "        * 2016-09-15  250 (new cars added to catalog in 3 days?)\n",
    "   "
   ]
  },
  {
   "cell_type": "markdown",
   "metadata": {},
   "source": [
    "## See what cars have been sold and added each days\n",
    "\n",
    "I'm assuming, perhaps simplistically, that cars taken of of the catalog have been sold. "
   ]
  },
  {
   "cell_type": "markdown",
   "metadata": {},
   "source": [
    "## Plot Brand average cost \n",
    "First get list of individual cars, then average per make. Most cars will show up every day because they haven't been sold. The price for some of these cars are changing so I first take the average over the 4 days for each cars.\n",
    "\n",
    "To find unique cars I group by year, make, model, trim, mileage. This assumes that mileage doesn't change but that price can. \n",
    "\n",
    "_ Values for Trader 1 are very biased towards more expensive cars as the search only outputs the top 1000 cars, sorted from most expensice to least, out of ~14000 cars._ **So this is just a quick demonstration, not an in-depth analysis.**\n",
    "\n",
    "### VR\n",
    "```SQL\n",
    "select make, count(make) num_cars, sum(price)/count(price) ave_price, \n",
    "        max(price) max_price, min(price) min_price\n",
    "from \n",
    "(select make, sum(price)/count(price) price from salesVR\n",
    "group by year, make, model, trim, mileage) DAY\n",
    "group by make\n",
    "order by ave_price;\n",
    "```\n",
    "\n",
    "### Trader 1\n",
    "```SQL\n",
    "select make, sum(AVE)/count(AVE) ave_price from\n",
    "(select count(make) CC, make, type, mileage, sum(price)/count(price) AVE\n",
    "from sales\n",
    "group by\n",
    "make, type, mileage having mileage not like 'Null') IND\n",
    "group by make\n",
    "order by ave_price;\n",
    "```"
   ]
  },
  {
   "cell_type": "code",
   "execution_count": 27,
   "metadata": {
    "collapsed": false
   },
   "outputs": [
    {
     "name": "stdout",
     "output_type": "stream",
     "text": [
      "Done.\n",
      "Done.\n"
     ]
    },
    {
     "data": {
      "text/html": [
       "<iframe id=\"igraph\" scrolling=\"no\" style=\"border:none;\" seamless=\"seamless\" src=\"https://plot.ly/~jfbg/108.embed\" height=\"525px\" width=\"100%\"></iframe>"
      ],
      "text/plain": [
       "<plotly.tools.PlotlyDisplay object>"
      ]
     },
     "execution_count": 27,
     "metadata": {},
     "output_type": "execute_result"
    }
   ],
   "source": [
    "make_ave_price_VR = %sql select make, count(make) num_cars, sum(price)/count(price) ave_price from (select make, sum(price)/count(price) price from salesVR group by year, make, model, trim, mileage) DAY group by make order by ave_price;\n",
    "make_ave_price_T1 = %sql select make, sum(AVE)/count(AVE) ave_price from (select count(make) CC, make, type, mileage, sum(price)/count(price) AVE from sales group by make, type, mileage having mileage not like 'Null') IND group by make order by ave_price;\n",
    "\n",
    "#Plot VR\n",
    "data = [go.Bar(\n",
    "            x=make_ave_price_VR[\"make\"],\n",
    "            y=make_ave_price_VR[\"ave_price\"]\n",
    "    )]\n",
    "\n",
    "layout = go.Layout(\n",
    "    title = 'VR - Average Car Price per Make (US$)')\n",
    "\n",
    "fig = go.Figure(data=data, layout=layout)\n",
    "py.iplot(fig, filename='VR_average_make')"
   ]
  },
  {
   "cell_type": "code",
   "execution_count": 25,
   "metadata": {
    "collapsed": false
   },
   "outputs": [
    {
     "data": {
      "text/html": [
       "<iframe id=\"igraph\" scrolling=\"no\" style=\"border:none;\" seamless=\"seamless\" src=\"https://plot.ly/~jfbg/108.embed\" height=\"525px\" width=\"100%\"></iframe>"
      ],
      "text/plain": [
       "<plotly.tools.PlotlyDisplay object>"
      ]
     },
     "execution_count": 25,
     "metadata": {},
     "output_type": "execute_result"
    }
   ],
   "source": [
    "#Plot T1\n",
    "data = [go.Bar(\n",
    "            x=make_ave_price_T1[\"make\"],\n",
    "            y=make_ave_price_T1[\"ave_price\"]\n",
    "    )]\n",
    "\n",
    "layout = go.Layout(\n",
    "    title = 'Trader 1 - Average Car Price per Make (US$)')\n",
    "\n",
    "fig2 = go.Figure(data=data, layout=layout)\n",
    "py.iplot(fig2, filename='VR_average_make')"
   ]
  },
  {
   "cell_type": "markdown",
   "metadata": {},
   "source": [
    "### Compare average prices for all brands\n",
    "Use temp tables from above. Also sqlite doesn't do full outer joins, so we have to get _**creative**_.\n",
    "\n",
    "```SQL\n",
    "select coalesce(makeVR,makeT1) make , price_VR, price_T1 from\n",
    "(select VR.make makeVR, T1.make makeT1, VR.ave_price_VR price_VR, T1.ave_price_T1 price_T1\n",
    "from\n",
    "(select make, sum(price)/count(price) ave_price_VR\n",
    "from \n",
    "(select make, sum(price)/count(price) price from salesVR\n",
    "group by year, make, model, trim, mileage) DAY\n",
    "group by make) VR\n",
    "left join\n",
    "(select make, sum(AVE)/count(AVE) ave_price_T1 from\n",
    "(select count(make) CC, make, type, mileage, sum(price)/count(price) AVE\n",
    "from sales\n",
    "group by\n",
    "make, type, mileage having mileage not like 'Null') IND\n",
    "group by make) T1\n",
    "on Vr.make = T1.make\n",
    "UNION ALL\n",
    "select VRb.make, T1b.make, VRb.ave_price_VR, T1b.ave_price_T1\n",
    "from\n",
    "(select make, sum(AVE)/count(AVE) ave_price_T1 from\n",
    "(select count(make) CC, make, type, mileage, sum(price)/count(price) AVE\n",
    "from sales\n",
    "group by\n",
    "make, type, mileage having mileage not like 'Null') IND\n",
    "group by make) T1b\n",
    "left join\n",
    "(select make, sum(price)/count(price) ave_price_VR\n",
    "from \n",
    "(select make, sum(price)/count(price) price from salesVR\n",
    "group by year, make, model, trim, mileage) DAY\n",
    "group by make) VRb\n",
    "on VRb.make = T1b.make\n",
    "where VRb.make IS NULL)\n",
    "order by make\n",
    ";\n",
    "```"
   ]
  },
  {
   "cell_type": "code",
   "execution_count": 37,
   "metadata": {
    "collapsed": false
   },
   "outputs": [
    {
     "name": "stdout",
     "output_type": "stream",
     "text": [
      "Done.\n"
     ]
    },
    {
     "data": {
      "text/html": [
       "<iframe id=\"igraph\" scrolling=\"no\" style=\"border:none;\" seamless=\"seamless\" src=\"https://plot.ly/~jfbg/110.embed\" height=\"1580px\" width=\"100%\"></iframe>"
      ],
      "text/plain": [
       "<plotly.tools.PlotlyDisplay object>"
      ]
     },
     "execution_count": 37,
     "metadata": {},
     "output_type": "execute_result"
    }
   ],
   "source": [
    "compare_prices = %sql select coalesce(makeVR,makeT1) make , price_VR, price_T1 from (select VR.make makeVR, T1.make makeT1, VR.ave_price_VR price_VR, T1.ave_price_T1 price_T1 from (select make, sum(price)/count(price) ave_price_VR from  (select make, sum(price)/count(price) price from salesVR group by year, make, model, trim, mileage) DAY group by make) VR left join (select make, sum(AVE)/count(AVE) ave_price_T1 from (select count(make) CC, make, type, mileage, sum(price)/count(price) AVE from sales group by make, type, mileage having mileage not like 'Null') IND group by make) T1 on Vr.make = T1.make UNION ALL select VRb.make, T1b.make, VRb.ave_price_VR, T1b.ave_price_T1 from (select make, sum(AVE)/count(AVE) ave_price_T1 from (select count(make) CC, make, type, mileage, sum(price)/count(price) AVE from sales group by make, type, mileage having mileage not like 'Null') IND group by make) T1b left join (select make, sum(price)/count(price) ave_price_VR from  (select make, sum(price)/count(price) price from salesVR group by year, make, model, trim, mileage) DAY group by make) VRb on VRb.make = T1b.make where VRb.make IS NULL) order by make;\n",
    "# qgrid.show_grid(compare_prices)\n",
    "compare_prices.set_index(\"make\", drop=True,inplace = True)\n",
    "table = FF.create_table(compare_prices, index=True, index_title = 'Make')\n",
    "py.iplot(table, filename='linked_table')"
   ]
  }
 ],
 "metadata": {
  "kernelspec": {
   "display_name": "Python 2",
   "language": "python",
   "name": "python2"
  },
  "language_info": {
   "codemirror_mode": {
    "name": "ipython",
    "version": 2
   },
   "file_extension": ".py",
   "mimetype": "text/x-python",
   "name": "python",
   "nbconvert_exporter": "python",
   "pygments_lexer": "ipython2",
   "version": "2.7.11"
  }
 },
 "nbformat": 4,
 "nbformat_minor": 0
}
