{
 "cells": [
  {
   "cell_type": "markdown",
   "metadata": {},
   "source": [
    "## Modeling Demand"
   ]
  },
  {
   "cell_type": "markdown",
   "metadata": {},
   "source": [
    "### Questions to consider:\n",
    "\n",
    "* How accurate to we need the model to be?\n",
    "* What time period do we need the forecast for?\n",
    "* Cost/Benefit of the forecast\n",
    "* Time we have to make the analysis?\n",
    "    * When do we need it for?\n",
    "    * Should we start with more crude model and then optimize incrementally?\n",
    "* What is the purpose of the forecast?\n",
    "    * Inventory\n",
    "    * Guidance for buyouts\n",
    "* How often does it need to be produced?\n",
    "    * Daily update? (for makes, year, ...)\n",
    "    * Quartely (for inventory...)\n",
    "* What are the dynamics and components (factors) of the system?\n",
    "* How important is historical data in predicting future sales?\n",
    "    * New advertising N\n",
    "    * National Growth N\n",
    "    * Seasonal Changes Y"
   ]
  },
  {
   "cell_type": "markdown",
   "metadata": {},
   "source": [
    "### Factors to consider:\n",
    "\n",
    "**Internal:**\n",
    "* Historical sales\n",
    "    * Seasonal variations\n",
    "    * Growth trend\n",
    "* Total demand versus Make/Type\n",
    "* Advertising (current & planned)\n",
    "    * State Versus National\n",
    "    * Online / Traditional\n",
    "    * How to track new visits/conversions?\n",
    "    \n",
    "\n",
    "**External:**\n",
    "* Seasonal demand\n",
    "* Maneuvers of competition (e.g. price-cutting)\n",
    "* US Economic Activity\n",
    "* Evolution of Gas price (might affect total demand, type of car demand)\n",
    "* New car sales\n",
    "    * How would this affect used car sales?"
   ]
  },
  {
   "cell_type": "markdown",
   "metadata": {},
   "source": [
    "### Which forecasting technique is best?\n",
    "\n",
    "Depends on what we need, when we need it, at what cost.\n",
    "\n",
    "* Simple/Sophisticated statistical models\n",
    "    * Qualitative\n",
    "    * Low accuracy\n",
    "    * Low cost\n",
    "    * not as dependent on historical data\n",
    "    * Use scarce data / other historical sources\n",
    "* Time Series analysis & projection\n",
    "    * Dependent on historical Data\n",
    "    * Identify Trends, seasonals\n",
    "    * Growth rate of these Trends\n",
    "    * Not good for outliers\n",
    "    * Not good for turning points (when trends change significantly)\n",
    "* Causal models:\n",
    "    * Mathematical expressions of relationships\n",
    "    * Advanced modeling\n",
    "\n"
   ]
  },
  {
   "cell_type": "markdown",
   "metadata": {},
   "source": [
    "### Time Series Analysis Methods + Packages\n",
    "\n",
    "* ARMA, ARIMA.\n",
    "    * Good for non-stationary data\n",
    "    * Good for data with seasonality\n",
    "    * ARIMA(p,d,q)\n",
    "        * p is time lags AR\n",
    "        * d is degree of differencing I\n",
    "        * q is order of moving average MA\n",
    "    * Use Box-jenkins approach\n",
    "* Gaussian Processes\n",
    "    * Bayesian non-parametrics\n",
    "    * http://dan.iel.fm/george/current/\n",
    "    * https://sheffieldml.github.io/GPy/\n",
    "* Python modules:\n",
    "    * statsmodels.tsa\n",
    "    * rpy2 (calls R in python, several tsa modules in R)\n",
    "    * pyRServe (similar to rpy2)\n",
    "    * rsvp/fecon235 (moslty for financial economics, could be adapted to VR)\n",
    "    * PyFlux (I've never tested)\n",
    "\n"
   ]
  },
  {
   "cell_type": "markdown",
   "metadata": {},
   "source": [
    "### Links:\n",
    "\n",
    "* http://www.cnbc.com/2016/08/02/gm-ford-say-july-us-sales-fell.html\n",
    "    * Can a drop in New Car sales means an increased in used car sales? Or also a drop in used car sales?\n",
    "* https://hbr.org/1971/07/how-to-choose-the-right-forecasting-technique"
   ]
  },
  {
   "cell_type": "code",
   "execution_count": null,
   "metadata": {
    "collapsed": true
   },
   "outputs": [],
   "source": []
  }
 ],
 "metadata": {
  "kernelspec": {
   "display_name": "Python 2",
   "language": "python",
   "name": "python2"
  },
  "language_info": {
   "codemirror_mode": {
    "name": "ipython",
    "version": 2
   },
   "file_extension": ".py",
   "mimetype": "text/x-python",
   "name": "python",
   "nbconvert_exporter": "python",
   "pygments_lexer": "ipython2",
   "version": "2.7.11"
  }
 },
 "nbformat": 4,
 "nbformat_minor": 0
}
