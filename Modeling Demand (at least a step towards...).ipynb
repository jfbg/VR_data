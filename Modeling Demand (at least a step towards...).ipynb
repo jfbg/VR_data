{
 "cells": [
  {
   "cell_type": "markdown",
   "metadata": {},
   "source": [
    "## Modeling Demand"
   ]
  },
  {
   "cell_type": "markdown",
   "metadata": {},
   "source": [
    "### Questions to consider:\n",
    "\n",
    "* How accurate to we need the model to be?\n",
    "* What time period do we need the forecast for?\n",
    "* Cost/Benefit of the forecast\n",
    "* Time we have to make the analysis?\n",
    "    * When do we need it for?\n",
    "    * Should we start with more crude model and then optimize incrementally?\n",
    "* What is the purpose of the forecast?\n",
    "    * Inventory\n",
    "    * Guidance for buyouts\n",
    "* How often does it need to be produced?\n",
    "    * Daily update? (for makes, year, ...)\n",
    "    * Quartely (for inventory...)\n",
    "* What are the dynamics and components (factors) of the system?\n",
    "* How important is historical data in predicting future sales?\n",
    "    * New advertising N\n",
    "    * National Growth N\n",
    "    * Seasonal Changes Y"
   ]
  },
  {
   "cell_type": "markdown",
   "metadata": {},
   "source": [
    "### Factors to consider:\n",
    "\n",
    "**Internal:**\n",
    "* Historical sales\n",
    "    * Seasonal variations\n",
    "    * Growth trend\n",
    "* Total demand versus Make/Type\n",
    "* Advertising (current & planned)\n",
    "    * State Versus National\n",
    "    * Online / Traditional\n",
    "    * How to track new visits/conversions?\n",
    "    \n",
    "\n",
    "**External:**\n",
    "* Seasonal demand\n",
    "* Maneuvers of competition (e.g. price-cutting)\n",
    "* US Economic Activity\n",
    "* Evolution of Gas price (might affect total demand, type of car demand)\n",
    "* New car sales\n",
    "    * How would this affect used car sales?"
   ]
  },
  {
   "cell_type": "markdown",
   "metadata": {},
   "source": [
    "### Which forecasting technique is best?\n",
    "\n",
    "* Simple/Sophisticated statistical models\n",
    "    * Qualitative\n",
    "    * Low accuracy\n",
    "    * Low cost\n",
    "    * not as dependent on historical data\n",
    "    * Use scarce data / other historical sources\n",
    "* Time Series analysis & projection\n",
    "    * Dependent on historical Data\n",
    "* Regression, other causal models\n",
    "\n"
   ]
  },
  {
   "cell_type": "markdown",
   "metadata": {},
   "source": [
    "### Links:\n",
    "\n",
    "* http://www.cnbc.com/2016/08/02/gm-ford-say-july-us-sales-fell.html\n",
    "    * Can a drop in New Car sales means an increased in used car sales? Or also a drop in used car sales?\n",
    "* https://hbr.org/1971/07/how-to-choose-the-right-forecasting-technique"
   ]
  },
  {
   "cell_type": "code",
   "execution_count": null,
   "metadata": {
    "collapsed": true
   },
   "outputs": [],
   "source": []
  }
 ],
 "metadata": {
  "kernelspec": {
   "display_name": "Python 2",
   "language": "python",
   "name": "python2"
  },
  "language_info": {
   "codemirror_mode": {
    "name": "ipython",
    "version": 2
   },
   "file_extension": ".py",
   "mimetype": "text/x-python",
   "name": "python",
   "nbconvert_exporter": "python",
   "pygments_lexer": "ipython2",
   "version": "2.7.11"
  }
 },
 "nbformat": 4,
 "nbformat_minor": 0
}
