{
 "cells": [
  {
   "cell_type": "markdown",
   "metadata": {},
   "source": [
    "## Scrape cars on sale on various trader websites\n",
    "\n",
    "Approach is different for this one. All of the trader's car can be listed on one page. I've simply loaded the entire page and saved it, with picture files. This is what I'm parsing. \n",
    "\n",
    "This could be set up to be done on a regular basis to identify new cars, sold cars, and so on. \n",
    "\n",
    "First saved file on 09/12/2016."
   ]
  },
  {
   "cell_type": "code",
   "execution_count": 1,
   "metadata": {
    "collapsed": false
   },
   "outputs": [
    {
     "name": "stderr",
     "output_type": "stream",
     "text": [
      "/usr/local/lib/python2.7/site-packages/IPython/config.py:13: ShimWarning: The `IPython.config` package has been deprecated. You should import from traitlets.config instead.\n",
      "  \"You should import from traitlets.config instead.\", ShimWarning)\n",
      "/usr/local/lib/python2.7/site-packages/IPython/utils/traitlets.py:5: UserWarning: IPython.utils.traitlets has moved to a top-level traitlets package.\n",
      "  warn(\"IPython.utils.traitlets has moved to a top-level traitlets package.\")\n"
     ]
    }
   ],
   "source": [
    "from selenium import webdriver\n",
    "from selenium.webdriver.common.keys import Keys\n",
    "from selenium.webdriver.support.ui import WebDriverWait\n",
    "from selenium.webdriver.support import expected_conditions as EC\n",
    "from selenium.common.exceptions import TimeoutException\n",
    "from bs4 import BeautifulSoup\n",
    "import numpy as np\n",
    "import pandas as pd\n",
    "import sqlite3\n",
    "import time\n",
    "\n",
    "%load_ext sql\n",
    "%config SqlMagic.autopandas=True\n",
    "%matplotlib inline"
   ]
  },
  {
   "cell_type": "code",
   "execution_count": 10,
   "metadata": {
    "collapsed": false
   },
   "outputs": [],
   "source": [
    "%qtconsole"
   ]
  },
  {
   "cell_type": "code",
   "execution_count": 23,
   "metadata": {
    "collapsed": false
   },
   "outputs": [],
   "source": [
    "# Connect to dbs\n",
    "conn = sqlite3.connect('data/sales.db')\n"
   ]
  },
  {
   "cell_type": "code",
   "execution_count": 9,
   "metadata": {
    "collapsed": false
   },
   "outputs": [],
   "source": [
    "source = 'www.vroom.com'\n",
    "trader = 'www.vroom.com/catalog'\n",
    "# browser = webdriver.Chrome()\n",
    "# browser.get(trader)"
   ]
  },
  {
   "cell_type": "code",
   "execution_count": 27,
   "metadata": {
    "collapsed": false
   },
   "outputs": [],
   "source": [
    "#Parse info\n",
    "all_cars = pd.DataFrame()\n",
    "date = '2016-09-12'\n",
    "\n",
    "soup = BeautifulSoup(open('./data/VR_scrape/VR09122016.html'),\"lxml\")\n",
    "cars = soup.find_all(\"div\", class_=\"car-new\")\n",
    "\n",
    "for car in cars:\n",
    "    try:\n",
    "        name = car.find_all(\"div\", class_=\"info\")[0].find_all(\"div\", class_=\"name\")[0].text.split()\n",
    "        year,make,model = name[0],name[1],name[2]\n",
    "        trim = car.find_all(\"div\", class_=\"trim\")[0].text\n",
    "        mileage = int(car.find_all(\"div\", class_=\"mileage\")[0].text.replace(',','').replace(' Miles',''))\n",
    "        price = int(car.find_all(\"div\", class_=\"price\")[0].text.replace('$','').replace(',',''))\n",
    "        img_file = car.find_all(\"img\")[0]['src']\n",
    "        all_cars = all_cars.append(pd.DataFrame(\n",
    "            [[date, 'Used',year, make,model,trim,mileage,price,img_file,source]]),\n",
    "                                      ignore_index = True)\n",
    "    except:\n",
    "        pass\n",
    "    \n",
    "        "
   ]
  },
  {
   "cell_type": "code",
   "execution_count": 29,
   "metadata": {
    "collapsed": false
   },
   "outputs": [],
   "source": [
    "# Add to sqlite table salesVR\n",
    "\n",
    "all_cars.columns = ['date','new_used', 'year', 'make', 'model','trim', 'mileage', 'price', 'img_file', 'source']    \n",
    "index_max = conn.execute('SELECT MAX(line_id) FROM salesVR').fetchall()\n",
    "if index_max[0][0] is not None:\n",
    "    all_cars.index = all_cars.index + 1 + index_max[0][0]\n",
    "all_cars.to_sql('salesVR',conn,flavor='sqlite',if_exists='append',index_label='line_id')"
   ]
  }
 ],
 "metadata": {
  "kernelspec": {
   "display_name": "Python 2",
   "language": "python",
   "name": "python2"
  },
  "language_info": {
   "codemirror_mode": {
    "name": "ipython",
    "version": 2
   },
   "file_extension": ".py",
   "mimetype": "text/x-python",
   "name": "python",
   "nbconvert_exporter": "python",
   "pygments_lexer": "ipython2",
   "version": "2.7.11"
  }
 },
 "nbformat": 4,
 "nbformat_minor": 0
}
