{
 "cells": [
  {
   "cell_type": "markdown",
   "metadata": {
    "collapsed": true
   },
   "source": [
    "#### Potential Sources:\n",
    "\n",
    "* Competition prices (scraping)\n",
    "    * National/local scales\n",
    "* Kelley Blue Book\n",
    "    * need to pay to use their API\n",
    "* VR Historical prices"
   ]
  },
  {
   "cell_type": "markdown",
   "metadata": {
    "collapsed": true
   },
   "source": [
    "#### Thoughts\n",
    "\n",
    "* Paid versus advertised?\n",
    "    * How to identify the price _paid_ by the consumer and not the price _advertised_.\n",
    "    * VR has no haggle policy, so pricing models should focus on price paid."
   ]
  },
  {
   "cell_type": "code",
   "execution_count": null,
   "metadata": {
    "collapsed": true
   },
   "outputs": [],
   "source": []
  }
 ],
 "metadata": {
  "kernelspec": {
   "display_name": "Python 2",
   "language": "python",
   "name": "python2"
  },
  "language_info": {
   "codemirror_mode": {
    "name": "ipython",
    "version": 2
   },
   "file_extension": ".py",
   "mimetype": "text/x-python",
   "name": "python",
   "nbconvert_exporter": "python",
   "pygments_lexer": "ipython2",
   "version": "2.7.11"
  }
 },
 "nbformat": 4,
 "nbformat_minor": 0
}
