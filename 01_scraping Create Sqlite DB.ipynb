{
 "cells": [
  {
   "cell_type": "markdown",
   "metadata": {},
   "source": [
    "### Create a sqlite database and table to store scraped car on sale results from various traders."
   ]
  },
  {
   "cell_type": "code",
   "execution_count": 4,
   "metadata": {
    "collapsed": true
   },
   "outputs": [],
   "source": [
    "import sqlite3\n",
    "conn = sqlite3.connect('data/sales.db')"
   ]
  },
  {
   "cell_type": "code",
   "execution_count": 5,
   "metadata": {
    "collapsed": false
   },
   "outputs": [],
   "source": [
    "# SCHEMA FOR TRADER 01\n",
    "#'NewUsed', 'Year', 'Make', 'Type','Mileage','Price','ZipCode','Source'\n",
    "\n",
    "# conn.execute(\n",
    "#     'CREATE TABLE sales (car_id INT PRIMARY KEY, new_used TEXT, year INT, make TEXT, type TEXT, mileage INT, price INT, zipcode INT, source TEXT)')\n",
    "\n",
    "# conn.commit()\n"
   ]
  },
  {
   "cell_type": "code",
   "execution_count": 6,
   "metadata": {
    "collapsed": true
   },
   "outputs": [],
   "source": [
    "# SCHEMA FOR TRADER VR\n",
    "#'NewUsed', 'Year', 'Make', 'Type','Mileage','Price','ZipCode','Source'\n",
    "\n",
    "conn.execute(\n",
    "    'CREATE TABLE salesVR (line_id INT PRIMARY KEY, date NUEMRIC, new_used TEXT, year INT, make TEXT, model TEXT, trim, TEXT, mileage INT, price INT, img_file TXT, source TEXT)')\n",
    "\n",
    "conn.commit()\n"
   ]
  },
  {
   "cell_type": "code",
   "execution_count": 7,
   "metadata": {
    "collapsed": true
   },
   "outputs": [],
   "source": [
    "conn.close()"
   ]
  },
  {
   "cell_type": "code",
   "execution_count": null,
   "metadata": {
    "collapsed": true
   },
   "outputs": [],
   "source": []
  }
 ],
 "metadata": {
  "kernelspec": {
   "display_name": "Python 2",
   "language": "python",
   "name": "python2"
  },
  "language_info": {
   "codemirror_mode": {
    "name": "ipython",
    "version": 2
   },
   "file_extension": ".py",
   "mimetype": "text/x-python",
   "name": "python",
   "nbconvert_exporter": "python",
   "pygments_lexer": "ipython2",
   "version": "2.7.11"
  }
 },
 "nbformat": 4,
 "nbformat_minor": 0
}
