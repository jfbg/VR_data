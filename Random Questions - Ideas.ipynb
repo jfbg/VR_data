{
 "cells": [
  {
   "cell_type": "markdown",
   "metadata": {},
   "source": [
    "## Random Questions/Ideas"
   ]
  },
  {
   "cell_type": "markdown",
   "metadata": {},
   "source": [
    "#### How to tell if we lost a conversion because the wanted vehicle was not available?\n",
    "\n",
    "*WHY*: Better understanding of demand would allow us to properly stock up on wanted makes/types. --> Increased conversion rate.\n",
    "\n",
    "* User chatted with agent and ask for particular car.\n",
    "* User used search box with no results.\n"
   ]
  },
  {
   "cell_type": "markdown",
   "metadata": {},
   "source": [
    "####"
   ]
  },
  {
   "cell_type": "markdown",
   "metadata": {},
   "source": [
    "#### Lists to make:\n",
    "\n",
    "* Competitors\n",
    "    * State Level\n",
    "    * National Level\n",
    "    \n",
    "    "
   ]
  }
 ],
 "metadata": {
  "kernelspec": {
   "display_name": "Python 2",
   "language": "python",
   "name": "python2"
  },
  "language_info": {
   "codemirror_mode": {
    "name": "ipython",
    "version": 2
   },
   "file_extension": ".py",
   "mimetype": "text/x-python",
   "name": "python",
   "nbconvert_exporter": "python",
   "pygments_lexer": "ipython2",
   "version": "2.7.11"
  }
 },
 "nbformat": 4,
 "nbformat_minor": 0
}
