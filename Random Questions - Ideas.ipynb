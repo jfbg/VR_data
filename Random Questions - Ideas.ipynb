{
 "cells": [
  {
   "cell_type": "markdown",
   "metadata": {},
   "source": [
    "## Random Questions/Ideas\n",
    "*Not in any particular order....*"
   ]
  },
  {
   "cell_type": "markdown",
   "metadata": {},
   "source": [
    "#### How to tell if we lost a conversion because the wanted vehicle was not available?\n",
    "\n",
    "*WHY*: Better understanding of demand would allow us to properly stock up on wanted makes/types. --> Increased conversion rate.\n",
    "\n",
    "* User chatted with agent and ask for particular car.\n",
    "* User used search box with no results.\n"
   ]
  },
  {
   "cell_type": "markdown",
   "metadata": {},
   "source": [
    "#### How can DS help with growth/success?\n",
    "\n",
    "* Optmize website.\n",
    "* Build an understanding of users behavior\n",
    "    * Through use of website, call/chat lines, social networks\n",
    "    * Do we have returning users?\n",
    "        * How can we keep those? Promote next product?\n",
    "* Build demand models\n",
    "* Could be used to assess if buyer is solvent before authorizing credit/moving forward\n",
    "    * Need Credit score info\n",
    "    * Or is this the bank's problem?\n",
    "\n",
    "\n",
    "    "
   ]
  },
  {
   "cell_type": "markdown",
   "metadata": {},
   "source": [
    "#### Lists to make:\n",
    "\n",
    "* Competitors\n",
    "    * State Level\n",
    "    * National Level\n",
    "    * Beepi\n",
    "    * Carvana\n",
    "    * Shift Technologies\n",
    "    * Carmax\n",
    "* External Sales Data Sources\n",
    "    * State / National\n",
    "    * Per Make, type, year, ...\n",
    "    * Free/Need to buy\n",
    "* Macro economics metrics:\n",
    "    * Or is this too large?\n",
    "    * Only to model longer trend demand\n",
    "    "
   ]
  },
  {
   "cell_type": "markdown",
   "metadata": {},
   "source": [
    "**Use browsing history [other info] to pick front page offers customized for each visitor use historical data to train model**\n",
    "* Past buys\n",
    "* Does it have an effect?\n",
    "* A/B\n",
    "\n",
    "**Adapt prices based on user's location and prices around them.**\n",
    "* Need to scrape competitors site\n",
    "* Daily update\n",
    "\n",
    "**Build a recommender based on a series of simple questions**\n",
    "* How much do you drive a year?\n",
    "* What type of activities do you mostly use your vehicle for?\n",
    "* How much room do you need.\n",
    "* Price range\n",
    "* etc.\n",
    "* Good for people who want a different car, \n",
    "* People tend to go for recommendations, more than browsing\n",
    "\n",
    "**Analyze TradeIns and optimize price offered.**\n",
    "\n",
    "** Build automated scripts to identify errors in the catalog**\n",
    "* Cars showing up twice\n",
    "* Incoherent prices\n",
    "* and so on\n",
    "\n",
    "**Could VR start selling other products (add-on)?** --> GROWTH\n",
    "* Already doing so for extended warranties\n",
    "* e.g. GPS, tires (summer, winter), roof racks, truck rack, cargo boxes, rims, liners.\n",
    "* Could be pre-installed (issues with 7 days warranty?)\n",
    "* Could be builts as amazon-style recommender.\n",
    "* e.g. http://www.autoanything.com/\n",
    " \n"
   ]
  },
  {
   "cell_type": "code",
   "execution_count": null,
   "metadata": {
    "collapsed": true
   },
   "outputs": [],
   "source": []
  }
 ],
 "metadata": {
  "kernelspec": {
   "display_name": "Python 2",
   "language": "python",
   "name": "python2"
  },
  "language_info": {
   "codemirror_mode": {
    "name": "ipython",
    "version": 2
   },
   "file_extension": ".py",
   "mimetype": "text/x-python",
   "name": "python",
   "nbconvert_exporter": "python",
   "pygments_lexer": "ipython2",
   "version": "2.7.11"
  }
 },
 "nbformat": 4,
 "nbformat_minor": 0
}
