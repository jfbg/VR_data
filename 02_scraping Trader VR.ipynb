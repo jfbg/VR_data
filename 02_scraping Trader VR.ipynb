{
 "cells": [
  {
   "cell_type": "markdown",
   "metadata": {},
   "source": [
    "## Scrape cars on sale on various trader websites\n",
    "\n",
    "Approach is different for this one. All of the trader's car can be listed on one page. I've simply loaded the entire page and saved it, with picture files. This is what I'm parsing. \n",
    "\n",
    "This could be set up to be done on a regular basis to identify new cars, sold cars, and so on. \n",
    "\n",
    "First saved file on 09/12/2016."
   ]
  },
  {
   "cell_type": "code",
   "execution_count": 1,
   "metadata": {
    "collapsed": false
   },
   "outputs": [
    {
     "name": "stderr",
     "output_type": "stream",
     "text": [
      "/usr/local/lib/python2.7/site-packages/IPython/config.py:13: ShimWarning: The `IPython.config` package has been deprecated. You should import from traitlets.config instead.\n",
      "  \"You should import from traitlets.config instead.\", ShimWarning)\n",
      "/usr/local/lib/python2.7/site-packages/IPython/utils/traitlets.py:5: UserWarning: IPython.utils.traitlets has moved to a top-level traitlets package.\n",
      "  warn(\"IPython.utils.traitlets has moved to a top-level traitlets package.\")\n"
     ]
    }
   ],
   "source": [
    "from bs4 import BeautifulSoup\n",
    "import numpy as np\n",
    "import pandas as pd\n",
    "import sqlite3\n",
    "import time\n",
    "\n",
    "%load_ext sql\n",
    "%config SqlMagic.autopandas=True\n",
    "%matplotlib inline"
   ]
  },
  {
   "cell_type": "code",
   "execution_count": null,
   "metadata": {
    "collapsed": false
   },
   "outputs": [],
   "source": [
    "# %qtconsole"
   ]
  },
  {
   "cell_type": "code",
   "execution_count": null,
   "metadata": {
    "collapsed": false
   },
   "outputs": [],
   "source": [
    "# Connect to dbs\n",
    "conn = sqlite3.connect('data/sales.db')\n",
    "%sql sqlite:///data/zipcode.sqlite"
   ]
  },
  {
   "cell_type": "code",
   "execution_count": null,
   "metadata": {
    "collapsed": false
   },
   "outputs": [],
   "source": [
    "#Get list of zipcodes, only do TX for now (LIMIT 10 because super slow... \n",
    "zips = %sql select ZipCode from zipcode where St = 'TX' limit 10"
   ]
  },
  {
   "cell_type": "code",
   "execution_count": null,
   "metadata": {
    "collapsed": false
   },
   "outputs": [],
   "source": [
    "trader = 'http://www.autotrader.com'\n",
    "\n"
   ]
  },
  {
   "cell_type": "code",
   "execution_count": null,
   "metadata": {
    "collapsed": false
   },
   "outputs": [],
   "source": [
    "for z in zips.ZipCode:\n",
    "    \n",
    "    print(z)\n",
    "\n",
    "    browser = webdriver.Chrome()\n",
    "    browser.get(trader)\n",
    "\n",
    "    elem = browser.find_element_by_name('fyc-form-j_id_bb-j_id_bn-j_id_cp-zipcode')  # Find the search box\n",
    "    elem.send_keys(Keys.ESCAPE)\n",
    "    elem.send_keys(str(z))\n",
    "    elem.send_keys(Keys.RETURN)\n",
    "    time.sleep(20)    \n",
    "\n",
    "    not_end = 0\n",
    "    while not_end < 4:\n",
    "        soup = BeautifulSoup(browser.page_source, \"lxml\")\n",
    "\n",
    "        # Create DataFrame\n",
    "        # columns = ['NewUsed', 'Year', 'Make', 'Type','Mileage','Price','ZipCode','Source']\n",
    "        all_cars = pd.DataFrame() #columns=columns)\n",
    "\n",
    "        #Make and Type\n",
    "        brands = soup.find_all(\"span\", class_=\"atcui-truncate ymm\")\n",
    "        #Price and Mileage\n",
    "        details = soup.find_all(\"div\", class_=\"atcui-section atcui-clearfix   listing-content \")\n",
    "\n",
    "        for cars, entry in zip(brands, details):\n",
    "            carsSTR = cars.text.split()\n",
    "            car_nu = carsSTR[0]\n",
    "            car_year = int(carsSTR[1])\n",
    "            car_make = carsSTR[2]\n",
    "            car_type = \" \".join(carsSTR[3:])\n",
    "\n",
    "            try:\n",
    "                milesSTR = entry.find_all(\"span\", class_=\"mileage\")[0].text\n",
    "                car_miles = int(milesSTR.split()[0].replace(',',''))\n",
    "            except:\n",
    "                car_miles = 'Null'\n",
    "\n",
    "            try:\n",
    "                priceSTR = entry.find_all(\"h4\", class_=\"primary-price\")[0].text\n",
    "                car_price = int(priceSTR.replace('$','').replace(',',''))\n",
    "            except:\n",
    "                car_price = 'Null'\n",
    "\n",
    "\n",
    "    #         print('{} {} {} {} {} {}'.format(car_year, car_nu, car_make, car_type, car_price, car_miles))\n",
    "            all_cars = all_cars.append(pd.DataFrame([[car_year, car_nu, car_make, \n",
    "                                                      car_type, car_miles, car_price, \n",
    "                                                      z, trader]]),\n",
    "                                      ignore_index = True)\n",
    "\n",
    "        all_cars.columns = ['new_used', 'year', 'make', 'type', 'mileage', 'price', 'zipcode', 'source']    \n",
    "        # Update index\n",
    "        index_max = conn.execute('SELECT MAX(car_id) FROM sales').fetchall()\n",
    "        if index_max[0][0] is not None:\n",
    "            all_cars.index = all_cars.index + 1 + index_max[0][0]\n",
    "        all_cars.to_sql('sales',conn,flavor='sqlite',if_exists='append',index_label='car_id')\n",
    "\n",
    "        next_counter = 0\n",
    "        while next_counter < 4:\n",
    "            try: \n",
    "                browser.find_element_by_class_name('pagination-button-next').click()\n",
    "                next_counter = 4\n",
    "            except:\n",
    "                if next_counter == 3:\n",
    "                    not_end = 1\n",
    "                time.sleep(2)\n",
    "                next_counter = next_counter + 1\n",
    "\n",
    "    browser.quit()\n",
    "\n",
    "\n",
    "\n",
    "\n"
   ]
  },
  {
   "cell_type": "code",
   "execution_count": null,
   "metadata": {
    "collapsed": true
   },
   "outputs": [],
   "source": [
    "conn.close()"
   ]
  }
 ],
 "metadata": {
  "kernelspec": {
   "display_name": "Python 2",
   "language": "python",
   "name": "python2"
  },
  "language_info": {
   "codemirror_mode": {
    "name": "ipython",
    "version": 2
   },
   "file_extension": ".py",
   "mimetype": "text/x-python",
   "name": "python",
   "nbconvert_exporter": "python",
   "pygments_lexer": "ipython2",
   "version": "2.7.11"
  }
 },
 "nbformat": 4,
 "nbformat_minor": 0
}
